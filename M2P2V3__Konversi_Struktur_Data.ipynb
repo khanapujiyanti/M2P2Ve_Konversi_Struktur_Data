{
  "nbformat": 4,
  "nbformat_minor": 0,
  "metadata": {
    "colab": {
      "name": "M2P2V3__Konversi_Struktur_Data.ipynb",
      "provenance": [],
      "collapsed_sections": [],
      "authorship_tag": "ABX9TyN+2wj1Of//NXKg6yQ1YEx6",
      "include_colab_link": true
    },
    "kernelspec": {
      "name": "python3",
      "display_name": "Python 3"
    },
    "language_info": {
      "name": "python"
    }
  },
  "cells": [
    {
      "cell_type": "markdown",
      "metadata": {
        "id": "view-in-github",
        "colab_type": "text"
      },
      "source": [
        "<a href=\"https://colab.research.google.com/github/khanapujiyanti/M2P2Ve_Konversi_Struktur_Data/blob/main/M2P2V3__Konversi_Struktur_Data.ipynb\" target=\"_parent\"><img src=\"https://colab.research.google.com/assets/colab-badge.svg\" alt=\"Open In Colab\"/></a>"
      ]
    },
    {
      "cell_type": "markdown",
      "metadata": {
        "id": "r7VNutj6AZjP"
      },
      "source": [
        "#Konversi Struktur Data"
      ]
    },
    {
      "cell_type": "markdown",
      "metadata": {
        "id": "iTgUbb4nAg1A"
      },
      "source": [
        "Fungsi untuk mengubah/konversi struktur data:\n",
        "\n",
        "a. list() : untuk mengubah menjadi list\n",
        "\n",
        "b. tuple() : untuk mengubah menjadi tuple\n",
        "\n",
        "c. set() : untuk mengubah menjadi set\n",
        "\n",
        "d. dict() : untuk mengubah menjadi dictionary"
      ]
    },
    {
      "cell_type": "markdown",
      "metadata": {
        "id": "3rvEFaalBTSW"
      },
      "source": [
        "#Mengkonvesi tipe data list:"
      ]
    },
    {
      "cell_type": "code",
      "metadata": {
        "id": "gDMJZ52Y-nu0"
      },
      "source": [
        "#Membuat 2 list\n",
        "L1 = [1,2,3,4]\n",
        "L2 = [5,6,7,8]"
      ],
      "execution_count": null,
      "outputs": []
    },
    {
      "cell_type": "code",
      "metadata": {
        "colab": {
          "base_uri": "https://localhost:8080/"
        },
        "id": "W228l4EyBmx9",
        "outputId": "8d234168-2992-4f09-e5a9-2cc869f2eb22"
      },
      "source": [
        "#Mengkonversi struktur data tuple\n",
        "\n",
        "k_tuple = tuple(L1)\n",
        "k_set = set(L2)\n",
        "k_dict = dict(zip(L1,L2))\n",
        "\n",
        "#Melihat data yang telah dikonversi\n",
        "print(k_tuple)\n",
        "print(k_set)\n",
        "print(k_dict)"
      ],
      "execution_count": null,
      "outputs": [
        {
          "output_type": "stream",
          "name": "stdout",
          "text": [
            "(1, 2, 3, 4)\n",
            "{8, 5, 6, 7}\n",
            "{1: 5, 2: 6, 3: 7, 4: 8}\n"
          ]
        }
      ]
    },
    {
      "cell_type": "markdown",
      "metadata": {
        "id": "LoGYyOMaFUCH"
      },
      "source": [
        "#Mengkonversi tipe daata tuple"
      ]
    },
    {
      "cell_type": "code",
      "metadata": {
        "colab": {
          "base_uri": "https://localhost:8080/"
        },
        "id": "efo-M3tUFZAI",
        "outputId": "82446328-1965-4618-f22b-fbc7d17ebecb"
      },
      "source": [
        "#membuat duatuple\n",
        "T1= (1,2,3,4)\n",
        "T2= (5,6,7,8)\n",
        "\n",
        "#Membuat struktur data tuple\n",
        "k_list = list(T1)\n",
        "k_set = set(T2)\n",
        "k_dict = dict(zip(T1,T2))\n",
        "#Memanggil data yang telah dikonversi\n",
        "print(k_list, k_set, k_dict)"
      ],
      "execution_count": null,
      "outputs": [
        {
          "output_type": "stream",
          "name": "stdout",
          "text": [
            "[1, 2, 3, 4] {8, 5, 6, 7} {1: 5, 2: 6, 3: 7, 4: 8}\n"
          ]
        }
      ]
    },
    {
      "cell_type": "markdown",
      "metadata": {
        "id": "G2aUsRGDDcxN"
      },
      "source": [
        "#Mengkonversi tipe data set:"
      ]
    },
    {
      "cell_type": "code",
      "metadata": {
        "colab": {
          "base_uri": "https://localhost:8080/"
        },
        "id": "cRJsGG6yB7GI",
        "outputId": "22f795b9-8443-4276-d576-8b3c8d9f55ef"
      },
      "source": [
        "#Membuat dua set\n",
        "S1 = {1,2,3,4}\n",
        "S2 = {5,6,7,8}\n",
        "\n",
        "#Mengkonversi struktur data set\n",
        "k_list = list(S1)\n",
        "k_tuple = tuple(S2)\n",
        "k_dict = dict(zip(S1,S2))\n",
        "\n",
        "#Melihat data yang telah dikonversi\n",
        "print(k_list)\n",
        "print(k_tuple)\n",
        "print(k_dict)"
      ],
      "execution_count": null,
      "outputs": [
        {
          "output_type": "stream",
          "name": "stdout",
          "text": [
            "[1, 2, 3, 4]\n",
            "(8, 5, 6, 7)\n",
            "{1: 8, 2: 5, 3: 6, 4: 7}\n"
          ]
        }
      ]
    },
    {
      "cell_type": "markdown",
      "metadata": {
        "id": "5MrpU78CGJzq"
      },
      "source": [
        "#Mengkonversi tipe data dictionary"
      ]
    },
    {
      "cell_type": "code",
      "metadata": {
        "colab": {
          "base_uri": "https://localhost:8080/"
        },
        "id": "fRl8hwH_GR2P",
        "outputId": "32d6d5f7-eab9-478e-f4cc-e0036ea83090"
      },
      "source": [
        "#Membuat dictionary\n",
        "D = {\"nama\":\"Andi\", \"Alamat\":\"Yogyakarta\",\"umur\":20}\n",
        "\n",
        "#mengkonversi struktur data dictionary dari key dan value-nya\n",
        "k_list = list(D.keys())\n",
        "k_tuple = tuple(D.values())\n",
        "k_set = set(D.keys())\n",
        "#Memanggil data yang telah dikonversi\n",
        "print(\"k_list :\", k_list)\n",
        "print(\"k_tuple :\", k_tuple)\n",
        "print(\"k_set :\", k_set)"
      ],
      "execution_count": null,
      "outputs": [
        {
          "output_type": "stream",
          "name": "stdout",
          "text": [
            "k_list : ['nama', 'Alamat', 'umur']\n",
            "k_tuple : ('Andi', 'Yogyakarta', 20)\n",
            "k_set : {'umur', 'nama', 'Alamat'}\n"
          ]
        }
      ]
    },
    {
      "cell_type": "code",
      "metadata": {
        "id": "v48UqJK6Dyfc",
        "colab": {
          "base_uri": "https://localhost:8080/"
        },
        "outputId": "d63d59a5-6b16-4721-d4a5-ef4b2b0a36cb"
      },
      "source": [
        "#LAkukan konversi struktur data yang kaliam buat pada notebook-notebook\n",
        "#sebelumnya menjadi list, tuple, set, dan dictionary (masing-masing satu)\n",
        "\n",
        "#Mengkonversi tipe data list\n",
        "print(\"Mengkonversi tipe data List\")\n",
        "l1 = [\"aku\", 4, 2+2j, \"lapar\", True, 4.4]\n",
        "l2 = ['aku', 4, 2+2j, 3, True, 4.4]\n",
        "print(\"k_tuple :\", tuple(l1))\n",
        "print(\"k_set :\", set(l2))\n",
        "print(\"k_dict :\", dict(zip(l1,l2)))\n",
        "print(\"-\"*79)\n",
        "\n",
        "#Mengkonversi tipe data tuple\n",
        "print(\"Mengkonversi tipe data tuple\")\n",
        "t1 = (\"tujuh\", 4, 3+9j, False)\n",
        "t2 = (True, 3.6, \"lima\", 1)\n",
        "print(\"k_list :\", list(t1))\n",
        "print(\"k_set :\", set(t2))\n",
        "print(\"k_dict :\", dict(zip(t2,t1)))\n",
        "print(\"-\"*79)\n",
        "\n",
        "#Mengkonversi tipe data set\n",
        "s1 = {3, False, \"one\", 7+8j, True}\n",
        "s2 = {1+2j, False, \"satu\", 11, False}\n",
        "print(\"k_list ;\", list(s1))\n",
        "print(\"k_tuple :\", tuple(s2))\n",
        "print(\"k_dicy :\", dict(zip(s1,s2)))\n",
        "print(\"-\"*79)\n",
        "\n",
        "#mengkonversi tipe data dictionary\n",
        "print(\"Mengkonversi tipe data dictionary\")\n",
        "d1 = {3:'tiga','key':6+5j}\n",
        "print(\"k_list :\", list(d1.values()))\n",
        "print(\"k_tuple :\", tuple(d1.keys()))\n",
        "print(\"k_set :\", set(d1.keys()))\n"
      ],
      "execution_count": null,
      "outputs": [
        {
          "output_type": "stream",
          "name": "stdout",
          "text": [
            "Mengkonversi tipe data List\n",
            "k_tuple : ('aku', 4, (2+2j), 'lapar', True, 4.4)\n",
            "k_set : {'aku', True, 3, 4, 4.4, (2+2j)}\n",
            "k_dict : {'aku': 'aku', 4: 4, (2+2j): (2+2j), 'lapar': 3, True: True, 4.4: 4.4}\n",
            "-------------------------------------------------------------------------------\n",
            "Mengkonversi tipe data tuple\n",
            "k_list : ['tujuh', 4, (3+9j), False]\n",
            "k_set : {True, 3.6, 'lima'}\n",
            "k_dict : {True: False, 3.6: 4, 'lima': (3+9j)}\n",
            "-------------------------------------------------------------------------------\n",
            "k_list ; [False, True, 3, 'one', (7+8j)]\n",
            "k_tuple : (False, 'satu', 11, (1+2j))\n",
            "k_dicy : {False: False, True: 'satu', 3: 11, 'one': (1+2j)}\n",
            "-------------------------------------------------------------------------------\n",
            "Mengkonversi tipe data dictionary\n",
            "k_list : ['tiga', (6+5j)]\n",
            "k_tuple : (3, 'key')\n",
            "k_set : {3, 'key'}\n"
          ]
        }
      ]
    }
  ]
}